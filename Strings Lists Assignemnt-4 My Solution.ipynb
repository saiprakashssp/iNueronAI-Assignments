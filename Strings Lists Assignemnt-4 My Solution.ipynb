{
 "cells": [
  {
   "cell_type": "markdown",
   "metadata": {},
   "source": [
    "1.1 Write a Python Program(with class concepts) to find the area of the triangle using the below\n",
    "formula.\n",
    "area = (s*(s-a)*(s-b)*(s-c)) ** 0.5\n",
    "Function to take the length of the sides of triangle from user should be defined in the parent\n",
    "class and function to calculate the area should be defined in subclass."
   ]
  },
  {
   "cell_type": "code",
   "execution_count": 6,
   "metadata": {},
   "outputs": [
    {
     "name": "stdout",
     "output_type": "stream",
     "text": [
      "Side-1 a = 8\n",
      "Side-2 b = 9\n",
      "Side-3 c = 7\n",
      "area of triangle with input sides of 8,9, and 7 is : 26.832815729997478\n"
     ]
    }
   ],
   "source": [
    "class tria_sides:\n",
    "    def __init__(self, a, b, c):\n",
    "        self.a = float(a)\n",
    "        self.b = float(b)\n",
    "        self.c = float(c)\n",
    "        self.area = 0\n",
    "\n",
    "class triangle(tria_sides):\n",
    "    def __init__(self, a, b, c):\n",
    "        tria_sides.__init__(self, a, b, c)\n",
    "\n",
    "    def calculate_area(self):\n",
    "        s = (self.a + self.b + self.c) / 2\n",
    "        self.area = float((s * (s - self.a) * (s - self.b) * (s - self.c))) ** 0.5\n",
    "\n",
    "    def get_area(self):\n",
    "        return self.area     \n",
    "\n",
    "a, b, c = input(\"Side-1 a = \"), input(\"Side-2 b = \"), input(\"Side-3 c = \")\n",
    "\n",
    "t = triangle(a, b, c)\n",
    "t.calculate_area()\n",
    "area_value = t.get_area()\n",
    "print(\"area of triangle with input sides of {},{}, and {} is : {}\".format(a,b,c,area_value))"
   ]
  },
  {
   "cell_type": "markdown",
   "metadata": {},
   "source": [
    "1.2 Write a function filter_long_words() that takes a list of words and an integer n and returns\n",
    "the list of words that are longer than n."
   ]
  },
  {
   "cell_type": "code",
   "execution_count": 16,
   "metadata": {},
   "outputs": [
    {
     "name": "stdout",
     "output_type": "stream",
     "text": [
      "Enter the number to limit the words list:  7\n",
      "ENter the String : Sai Prakash taking online course on DeepLearning, ComputerVision and Natural Language Processing\n"
     ]
    },
    {
     "data": {
      "text/plain": [
       "['DeepLearning,', 'ComputerVision', 'Language', 'Processing']"
      ]
     },
     "execution_count": 16,
     "metadata": {},
     "output_type": "execute_result"
    }
   ],
   "source": [
    "def filter_long_words(n, string):\n",
    "    word_length = []\n",
    "    word_list = string.split(\" \")\n",
    "    for word in word_list:\n",
    "        if len(word) > n:\n",
    "            word_length.append(word)\n",
    "    return word_length\n",
    "\n",
    "\n",
    "n=int(input(\"Enter the number to limit the words list:  \"))\n",
    "string =str(input(\"ENter the String : \"))\n",
    "\n",
    "filter_long_words(n, string)"
   ]
  },
  {
   "cell_type": "markdown",
   "metadata": {},
   "source": [
    "2.1 Write a Python program using function concept that maps list of words into a list of integers\n",
    "representing the lengths of the corresponding words.\n",
    "Hint: If a list [ ab,cde,erty] is passed on to the python function output should come as [2,3,4]\n",
    "Here 2,3 and 4 are the lengths of the words in the list."
   ]
  },
  {
   "cell_type": "code",
   "execution_count": 22,
   "metadata": {},
   "outputs": [
    {
     "name": "stdout",
     "output_type": "stream",
     "text": [
      "Enter words Sai Prakash taking online course on DeepLearning, Computer Vision, Natural Language Processing\n",
      "Length of Words are : [48, 15, 27]\n"
     ]
    }
   ],
   "source": [
    "def word_mapping_list_length(List):\n",
    "    return list(map(len, List))\n",
    "\n",
    "words_List=list(input(\"Enter words \").split(\",\"))\n",
    "#List Comprehension has been done to remove white trailing white spaces\n",
    "List=[word.strip() for word in words_List]\n",
    "#function Execution\n",
    "word_len=word_mapping_list_length(List)\n",
    "\n",
    "print(\"Length of Words are :\",word_len)"
   ]
  },
  {
   "cell_type": "markdown",
   "metadata": {},
   "source": [
    "2.2 Write a Python function which takes a character (i.e. a string of length 1) and returns True if\n",
    "it is a vowel, False otherwise."
   ]
  },
  {
   "cell_type": "code",
   "execution_count": 31,
   "metadata": {},
   "outputs": [
    {
     "name": "stdout",
     "output_type": "stream",
     "text": [
      "Enter the alpabet to check whether it is Vowel or consonant\n",
      "ENter the input character: s\n",
      "entered character s is Consonant\n",
      "Boolean value for the function is : False\n"
     ]
    }
   ],
   "source": [
    "def vowel_character_check(alphabet):\n",
    "    if(len(alphabet)==1):\n",
    "        Vowels_list=['A','E','I','O','U', 'a','e','i','o','u']\n",
    "        if (alphabet in Vowels_list):\n",
    "            print(\"entered character {} is Vowel\".format(alphabet))\n",
    "            return True\n",
    "        else:\n",
    "            print(\"entered character {} is Consonant\".format(alphabet))\n",
    "            return False\n",
    "    else:\n",
    "        print(\"Entered alphabet has more than 1 character\".format(alphabet))\n",
    "       \n",
    "\n",
    "\n",
    "    \n",
    "print(\"Enter the alpabet to check whether it is Vowel or consonant\")\n",
    "input_character = str(input(\"ENter the input character: \"))\n",
    "output = vowel_character_check(input_character)\n",
    "\n",
    "print(\"Boolean value for the function is :\",output)"
   ]
  }
 ],
 "metadata": {
  "kernelspec": {
   "display_name": "Python 3",
   "language": "python",
   "name": "python3"
  },
  "language_info": {
   "codemirror_mode": {
    "name": "ipython",
    "version": 3
   },
   "file_extension": ".py",
   "mimetype": "text/x-python",
   "name": "python",
   "nbconvert_exporter": "python",
   "pygments_lexer": "ipython3",
   "version": "3.8.3"
  }
 },
 "nbformat": 4,
 "nbformat_minor": 4
}
