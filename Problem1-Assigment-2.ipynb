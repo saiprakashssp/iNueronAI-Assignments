{
 "cells": [
  {
   "cell_type": "code",
   "execution_count": 31,
   "metadata": {},
   "outputs": [
    {
     "name": "stdout",
     "output_type": "stream",
     "text": [
      "* \r\n",
      "* * \r\n",
      "* * * \r\n",
      "* * * * \r\n",
      "* * * * * \r\n",
      "* * * * \r\n",
      "* * * \r\n",
      "* * \r\n",
      "* \r\n",
      "\r\n"
     ]
    }
   ],
   "source": [
    "def star_max_count(value):\n",
    "    for i in range(0, value):\n",
    "        for j in range(0, i + 1):\n",
    "            print(\"*\", end=' ')\n",
    "        print(\"\\r\")\n",
    "\n",
    "    for i in range(value, 0, -1):\n",
    "        for j in range(0, i - 1):\n",
    "            print(\"*\", end=' ')\n",
    "        print(\"\\r\")\n",
    "    \n",
    "star_max_count(5)"
   ]
  }
 ],
 "metadata": {
  "kernelspec": {
   "display_name": "Python 3",
   "language": "python",
   "name": "python3"
  },
  "language_info": {
   "codemirror_mode": {
    "name": "ipython",
    "version": 3
   },
   "file_extension": ".py",
   "mimetype": "text/x-python",
   "name": "python",
   "nbconvert_exporter": "python",
   "pygments_lexer": "ipython3",
   "version": "3.8.3"
  }
 },
 "nbformat": 4,
 "nbformat_minor": 4
}
