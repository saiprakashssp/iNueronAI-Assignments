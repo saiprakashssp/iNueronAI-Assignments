{
 "cells": [
  {
   "cell_type": "markdown",
   "metadata": {},
   "source": [
    "# Assignment-3"
   ]
  },
  {
   "cell_type": "markdown",
   "metadata": {},
   "source": [
    "1.1 Write a Python Program to implement your own myreduce() function which works exactly\n",
    "like Python's built-in function reduce()"
   ]
  },
  {
   "cell_type": "code",
   "execution_count": 5,
   "metadata": {},
   "outputs": [
    {
     "name": "stdout",
     "output_type": "stream",
     "text": [
      "Input from the user:\n",
      "Please insert the number upto which you want the count :26\n",
      "Output:\n",
      "List of First 26 Natural numbers are [1, 2, 3, 4, 5, 6, 7, 8, 9, 10, 11, 12, 13, 14, 15, 16, 17, 18, 19, 20, 21, 22, 23, 24, 25, 26]:\n",
      "Sum of List numbers are : 351\n"
     ]
    }
   ],
   "source": [
    "def user_defined_reduce(num):\n",
    "    numbers_list=list(range(1,number+1))\n",
    "    sum_of_numbers=0\n",
    "    for i in numbers_list:\n",
    "        sum_of_numbers+=i\n",
    "    return numbers_list,sum_of_numbers\n",
    "\n",
    "print(\"Input from the user:\")\n",
    "number=int(input(\"Please insert the number upto which you want the count :\"))\n",
    "\n",
    "output_value=user_defined_reduce(number)\n",
    "print(\"Output:\")\n",
    "print(\"List of First {} Natural numbers are {}:\".format(number,output_value[0]))\n",
    "print(\"Sum of List numbers are :\",output_value[1])"
   ]
  },
  {
   "cell_type": "markdown",
   "metadata": {},
   "source": [
    "1.2 Write a Python program to implement your own myfilter() function which works exactly like Python's built-in function filter()"
   ]
  },
  {
   "cell_type": "code",
   "execution_count": 10,
   "metadata": {},
   "outputs": [
    {
     "name": "stdout",
     "output_type": "stream",
     "text": [
      "Input from the user:\n",
      "Please insert the number: 41\n",
      "Output from the user:\n",
      "List of numbers: [1, 2, 3, 4, 5, 6, 7, 8, 9, 10, 11, 12, 13, 14, 15, 16, 17, 18, 19, 20, 21, 22, 23, 24, 25, 26, 27, 28, 29, 30, 31, 32, 33, 34, 35, 36, 37, 38, 39, 40, 41]\n",
      "List of Even numbers, which are multiples of 7 are: [14, 28]\n",
      "List of Odd numbers, which are multiples of 7 are: [14, 28]\n"
     ]
    }
   ],
   "source": [
    "print(\"Input from the user:\")\n",
    "number=int(input(\"Please insert the number: \"))\n",
    "\n",
    "numbers_list=list(range(1,number+1))\n",
    "\n",
    "\n",
    "def user_defined_filter(numbers_list):\n",
    "    list_even_numbers=[]\n",
    "    list_odd_numbers=[]\n",
    "    \n",
    "    for i in numbers_list:\n",
    "        if(i%7==0):\n",
    "            if(i%2==0):\n",
    "                list_even_numbers.append(i)\n",
    "            else:\n",
    "                list_odd_numbers.append(i)\n",
    "                \n",
    "    return list_even_numbers,list_even_numbers\n",
    "\n",
    "\n",
    "output_value=user_defined_filter(numbers_list)\n",
    "\n",
    "\n",
    "print(\"Output from the user:\")\n",
    "print(\"List of numbers:\",numbers_list)\n",
    "print(\"List of Even numbers, which are multiples of 7 are:\",output_value[0])\n",
    "print(\"List of Odd numbers, which are multiples of 7 are:\",output_value[1])"
   ]
  },
  {
   "cell_type": "markdown",
   "metadata": {},
   "source": [
    "Problem_2: \"Implement List comprehensions to produce the following lists. Write List comprehensions to produce the following Lists ['A', 'C', 'A', 'D', 'G', 'I', ’L’, ‘ D’] ['x', 'xx', 'xxx', 'xxxx', 'y', 'yy', 'yyy', 'yyyy', 'z', 'zz', 'zzz', 'zzzz'] ['x', 'y', 'z', 'xx', 'yy', 'zz', 'xx', 'yy', 'zz', 'xxxx', 'yyyy', 'zzzz'] [[2], [3], [4], [3], [4], [5], [4], [5], [6]] [[2, 3, 4, 5], [3, 4, 5, 6], [4, 5, 6, 7], [5, 6, 7, 8]] [(1, 1), (2, 1), (3, 1), (1, 2), (2, 2), (3, 2), (1, 3), (2, 3), (3, 3)]\""
   ]
  },
  {
   "cell_type": "code",
   "execution_count": 19,
   "metadata": {},
   "outputs": [
    {
     "name": "stdout",
     "output_type": "stream",
     "text": [
      "['x', 'xx', 'xxx', 'xxxx', 'y', 'yy', 'yyy', 'yyyy', 'z', 'zz', 'zzz', 'zzzz']\n",
      "['x', 'y', 'z', 'xx', 'yy', 'zz', 'xxx', 'yyy', 'zzz', 'xxxx', 'yyyy', 'zzzz']\n",
      "[[2], [3], [4], [3], [4], [5], [4], [5], [6]]\n",
      "[[2, 3, 4, 5], [3, 4, 5, 6], [4, 5, 6, 7], [5, 6, 7, 8]]\n",
      "[(1, 1), (2, 1), (3, 1), (1, 2), (2, 2), (3, 2), (1, 3), (2, 3), (3, 3)]\n"
     ]
    }
   ],
   "source": [
    "#List Format 1\n",
    "list_input_alphabet=list('xyz')\n",
    "list_output_1=[x*n for x in list_input_alphabet for n in range(1,5) ]\n",
    "print(list_output_1)\n",
    "\n",
    "#List Format 2\n",
    "list_output_2=[x*n for n in range(1,5) for x in list_input_alphabet ]\n",
    "print(list_output_2)\n",
    "\n",
    "#List Format 3\n",
    "list_input_number_format_1=[2,3,4]\n",
    "number_output_1=[[x+n] for x in list_input_number_format_1 for n in range(0,3)]\n",
    "print(number_output_1)\n",
    "\n",
    "#List Format 4\n",
    "list_input_number_format_2=[2,3,4,5]\n",
    "number_output_2=[[x+n for n in range(0,4)] for x in list_input_number_format_2 ]\n",
    "print(number_output_2)\n",
    "\n",
    "#List Format 5\n",
    "list_input_number_format_3=[1,2,3]\n",
    "number_output_3= [(b,a) for a in list_input_number_format_3 for b in list_input_number_format_3]\n",
    "print(number_output_3)"
   ]
  }
 ],
 "metadata": {
  "kernelspec": {
   "display_name": "Python 3",
   "language": "python",
   "name": "python3"
  },
  "language_info": {
   "codemirror_mode": {
    "name": "ipython",
    "version": 3
   },
   "file_extension": ".py",
   "mimetype": "text/x-python",
   "name": "python",
   "nbconvert_exporter": "python",
   "pygments_lexer": "ipython3",
   "version": "3.8.3"
  }
 },
 "nbformat": 4,
 "nbformat_minor": 4
}
